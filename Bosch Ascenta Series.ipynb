{
 "cells": [
  {
   "cell_type": "code",
   "execution_count": 1,
   "metadata": {
    "collapsed": true
   },
   "outputs": [],
   "source": [
    "import numpy as np\n",
    "import tensorflow as tf"
   ]
  },
  {
   "cell_type": "code",
   "execution_count": 2,
   "metadata": {
    "collapsed": true
   },
   "outputs": [],
   "source": [
    "x = np.array([1.2, 3.6, 9.7])\n",
    "y = np.array([2.8, 9.4, 1.3])"
   ]
  },
  {
   "cell_type": "code",
   "execution_count": 3,
   "metadata": {
    "collapsed": false
   },
   "outputs": [
    {
     "name": "stdout",
     "output_type": "stream",
     "text": [
      "[  4.  13.  11.]\n",
      "[  4.  13.  11.]\n"
     ]
    }
   ],
   "source": [
    "z = tf.add(x,y)\n",
    "with tf.Session() as sess:\n",
    "    init = tf.initialize_all_variables()\n",
    "    sess.run(init)\n",
    "    print (z.eval())\n",
    "print (x + y)"
   ]
  },
  {
   "cell_type": "code",
   "execution_count": 4,
   "metadata": {
    "collapsed": false
   },
   "outputs": [
    {
     "name": "stdout",
     "output_type": "stream",
     "text": [
      "[-1.6 -5.8  8.4]\n",
      "[-1.6 -5.8  8.4]\n"
     ]
    }
   ],
   "source": [
    "z = tf.sub(x,y)\n",
    "with tf.Session() as sess:\n",
    "    init = tf.initialize_all_variables()\n",
    "    sess.run(init)\n",
    "    print (z.eval())\n",
    "print (x - y)"
   ]
  },
  {
   "cell_type": "code",
   "execution_count": 5,
   "metadata": {
    "collapsed": false
   },
   "outputs": [
    {
     "name": "stdout",
     "output_type": "stream",
     "text": [
      "[  3.36  33.84  12.61]\n",
      "[  3.36  33.84  12.61]\n"
     ]
    }
   ],
   "source": [
    "z = tf.mul(x,y)\n",
    "with tf.Session() as sess:\n",
    "    init = tf.initialize_all_variables()\n",
    "    sess.run(init)\n",
    "    print (z.eval())\n",
    "print (x * y)"
   ]
  },
  {
   "cell_type": "code",
   "execution_count": 6,
   "metadata": {
    "collapsed": false
   },
   "outputs": [
    {
     "name": "stdout",
     "output_type": "stream",
     "text": [
      "[ 0.42857143  0.38297872  7.46153846]\n",
      "[ 0.42857143  0.38297872  7.46153846]\n"
     ]
    }
   ],
   "source": [
    "\"\"\"\n",
    "Returns x / y element-wise.\n",
    "\"\"\"\n",
    "\n",
    "z = tf.div(x,y)\n",
    "with tf.Session() as sess:\n",
    "    init = tf.initialize_all_variables()\n",
    "    sess.run(init)\n",
    "    print (z.eval())\n",
    "print (x / y)"
   ]
  },
  {
   "cell_type": "code",
   "execution_count": 7,
   "metadata": {
    "collapsed": false
   },
   "outputs": [
    {
     "name": "stdout",
     "output_type": "stream",
     "text": [
      "[ 0.42857143  0.38297872  7.46153846]\n",
      "[ 0.42857143  0.38297872  7.46153846]\n"
     ]
    }
   ],
   "source": [
    "\"\"\"\n",
    "Divides x / y elementwise, always producing floating point results.\n",
    "\"\"\"\n",
    "\n",
    "z = tf.truediv(x,y)\n",
    "with tf.Session() as sess:\n",
    "    init = tf.initialize_all_variables()\n",
    "    sess.run(init)\n",
    "    print (z.eval())\n",
    "print (x / y)"
   ]
  },
  {
   "cell_type": "code",
   "execution_count": 8,
   "metadata": {
    "collapsed": false
   },
   "outputs": [
    {
     "name": "stdout",
     "output_type": "stream",
     "text": [
      "[ 0.  0.  7.]\n",
      "[ 0.42857143  0.38297872  7.46153846]\n"
     ]
    }
   ],
   "source": [
    "\"\"\"\n",
    "Divides x / y elementwise, rounding down for floating point.\n",
    "\"\"\"\n",
    "\n",
    "z = tf.floordiv(x,y)\n",
    "with tf.Session() as sess:\n",
    "    init = tf.initialize_all_variables()\n",
    "    sess.run(init)\n",
    "    print (z.eval())\n",
    "print (x / y)"
   ]
  },
  {
   "cell_type": "code",
   "execution_count": 9,
   "metadata": {
    "collapsed": false
   },
   "outputs": [
    {
     "name": "stdout",
     "output_type": "stream",
     "text": [
      "[ 1.2  3.6  0.6]\n",
      "[ 1.2  3.6  0.6]\n"
     ]
    }
   ],
   "source": [
    "\"\"\"\n",
    "Returns element-wise remainder of division.\n",
    "\"\"\"\n",
    "\n",
    "z = tf.mod(x,y)\n",
    "with tf.Session() as sess:\n",
    "    init = tf.initialize_all_variables()\n",
    "    sess.run(init)\n",
    "    print (z.eval())\n",
    "print (x % y)"
   ]
  },
  {
   "cell_type": "code",
   "execution_count": 10,
   "metadata": {
    "collapsed": false
   },
   "outputs": [
    {
     "name": "stdout",
     "output_type": "stream",
     "text": [
      "[3 5 0]\n",
      "[3 5 0]\n"
     ]
    }
   ],
   "source": [
    "a = np.array([9, 5, 4])\n",
    "b = np.array([6, 8, 1])\n",
    "\n",
    "z = tf.mod(a,b)\n",
    "with tf.Session() as sess:\n",
    "    init = tf.initialize_all_variables()\n",
    "    sess.run(init)\n",
    "    print (z.eval())\n",
    "print (a % b)"
   ]
  },
  {
   "cell_type": "code",
   "execution_count": 11,
   "metadata": {
    "collapsed": false
   },
   "outputs": [
    {
     "name": "stdout",
     "output_type": "stream",
     "text": [
      "[0 2 4]\n",
      "[ 0.6  1.4  4. ]\n"
     ]
    }
   ],
   "source": [
    "z = tf.mod(a,x) # integer % float\n",
    "with tf.Session() as sess:\n",
    "    init = tf.initialize_all_variables()\n",
    "    sess.run(init)\n",
    "    print (z.eval())\n",
    "print (a % x)"
   ]
  },
  {
   "cell_type": "code",
   "execution_count": 12,
   "metadata": {
    "collapsed": false
   },
   "outputs": [
    {
     "name": "stdout",
     "output_type": "stream",
     "text": [
      "[ 1.2  3.6  0.7]\n",
      "[ 1.2  3.6  0.7]\n"
     ]
    }
   ],
   "source": [
    "z = tf.mod(x,b) # float % integer\n",
    "with tf.Session() as sess:\n",
    "    init = tf.initialize_all_variables()\n",
    "    sess.run(init)\n",
    "    print (z.eval())\n",
    "print (x % b)"
   ]
  },
  {
   "cell_type": "code",
   "execution_count": 13,
   "metadata": {
    "collapsed": false
   },
   "outputs": [
    {
     "name": "stdout",
     "output_type": "stream",
     "text": [
      "[-86.5  25.6   1.2]\n",
      "[-86.5  25.6   1.2]\n"
     ]
    }
   ],
   "source": [
    "z = tf.cross(x,y)\n",
    "with tf.Session() as sess:\n",
    "    init = tf.initialize_all_variables()\n",
    "    sess.run(init)\n",
    "    print (z.eval())\n",
    "print (np.cross(x,y))"
   ]
  },
  {
   "cell_type": "code",
   "execution_count": 14,
   "metadata": {
    "collapsed": false
   },
   "outputs": [
    {
     "name": "stdout",
     "output_type": "stream",
     "text": [
      "[  4.  13.  11.]\n",
      "[  4.  13.  11.]\n"
     ]
    }
   ],
   "source": [
    "z = tf.add_n([x,y])\n",
    "with tf.Session() as sess:\n",
    "    init = tf.initialize_all_variables()\n",
    "    sess.run(init)\n",
    "    print (z.eval())\n",
    "print (x + y)"
   ]
  },
  {
   "cell_type": "code",
   "execution_count": 15,
   "metadata": {
    "collapsed": false
   },
   "outputs": [
    {
     "name": "stdout",
     "output_type": "stream",
     "text": [
      "[  5.23  17.3   11.3 ]\n",
      "[  5.23  17.3   11.3 ]\n"
     ]
    }
   ],
   "source": [
    "c = np.array([1.23, 4.3, 0.3])\n",
    "z = tf.add_n([x,y, c])\n",
    "with tf.Session() as sess:\n",
    "    init = tf.initialize_all_variables()\n",
    "    sess.run(init)\n",
    "    print (z.eval())\n",
    "print (x + y + c)"
   ]
  },
  {
   "cell_type": "code",
   "execution_count": 16,
   "metadata": {
    "collapsed": false
   },
   "outputs": [
    {
     "name": "stdout",
     "output_type": "stream",
     "text": [
      "[ 1.23  4.3   0.3 ]\n",
      "[ 1.23  4.3   0.3 ]\n"
     ]
    }
   ],
   "source": [
    "c = np.array([-1.23, 4.3, -0.3])\n",
    "z = tf.abs(c)\n",
    "with tf.Session() as sess:\n",
    "    init = tf.initialize_all_variables()\n",
    "    sess.run(init)\n",
    "    print (z.eval())\n",
    "print (np.abs(c))"
   ]
  },
  {
   "cell_type": "code",
   "execution_count": 17,
   "metadata": {
    "collapsed": false
   },
   "outputs": [
    {
     "name": "stdout",
     "output_type": "stream",
     "text": [
      "[ 1.23 -4.3   0.3 ]\n",
      "[ 1.23 -4.3   0.3 ]\n"
     ]
    }
   ],
   "source": [
    "c = np.array([-1.23, 4.3, -0.3])\n",
    "z = tf.neg(c)\n",
    "with tf.Session() as sess:\n",
    "    init = tf.initialize_all_variables()\n",
    "    sess.run(init)\n",
    "    print (z.eval())\n",
    "print (-c)"
   ]
  },
  {
   "cell_type": "code",
   "execution_count": 18,
   "metadata": {
    "collapsed": false
   },
   "outputs": [
    {
     "name": "stdout",
     "output_type": "stream",
     "text": [
      "[-1.  1. -1.]\n",
      "[-1.  1. -1.]\n",
      "[-1.  1. -1.]\n"
     ]
    }
   ],
   "source": [
    "c = np.array([-1.23, 4.3, -0.3])\n",
    "z = tf.sign(c)\n",
    "with tf.Session() as sess:\n",
    "    init = tf.initialize_all_variables()\n",
    "    sess.run(init)\n",
    "    print (z.eval())\n",
    "print (np.array([-1. if i < 0 else 1. for i in c]))\n",
    "print (np.sign(c))"
   ]
  },
  {
   "cell_type": "code",
   "execution_count": 19,
   "metadata": {
    "collapsed": false
   },
   "outputs": [
    {
     "name": "stdout",
     "output_type": "stream",
     "text": [
      "[-0.81300813  0.23255814 -3.33333333]\n",
      "[-0.81300813  0.23255814 -3.33333333]\n"
     ]
    }
   ],
   "source": [
    "c = np.array([-1.23, 4.3, -0.3])\n",
    "z = tf.inv(c)\n",
    "with tf.Session() as sess:\n",
    "    init = tf.initialize_all_variables()\n",
    "    sess.run(init)\n",
    "    print (z.eval())\n",
    "print (1. / c)"
   ]
  },
  {
   "cell_type": "code",
   "execution_count": 20,
   "metadata": {
    "collapsed": false
   },
   "outputs": [
    {
     "name": "stdout",
     "output_type": "stream",
     "text": [
      "[  1.5129  18.49     0.09  ]\n",
      "[  1.5129  18.49     0.09  ]\n"
     ]
    }
   ],
   "source": [
    "c = np.array([-1.23, 4.3, -0.3])\n",
    "z = tf.square(c)\n",
    "with tf.Session() as sess:\n",
    "    init = tf.initialize_all_variables()\n",
    "    sess.run(init)\n",
    "    print (z.eval())\n",
    "print (c * c)"
   ]
  },
  {
   "cell_type": "code",
   "execution_count": 21,
   "metadata": {
    "collapsed": false
   },
   "outputs": [
    {
     "name": "stdout",
     "output_type": "stream",
     "text": [
      "[-1.  4.  0.]\n",
      "[-1.  4. -0.]\n"
     ]
    }
   ],
   "source": [
    "c = np.array([-1.23, 4.3, -0.3])\n",
    "z = tf.round(c)\n",
    "with tf.Session() as sess:\n",
    "    init = tf.initialize_all_variables()\n",
    "    sess.run(init)\n",
    "    print (z.eval())\n",
    "print (np.round(c))"
   ]
  },
  {
   "cell_type": "code",
   "execution_count": 22,
   "metadata": {
    "collapsed": false
   },
   "outputs": [
    {
     "name": "stdout",
     "output_type": "stream",
     "text": [
      "[        nan  2.07364414         nan]\n",
      "[        nan  2.07364414         nan]\n"
     ]
    }
   ],
   "source": [
    "c = np.array([-1.23, 4.3, -0.3])\n",
    "z = tf.sqrt(c)\n",
    "with tf.Session() as sess:\n",
    "    init = tf.initialize_all_variables()\n",
    "    sess.run(init)\n",
    "    print (z.eval())\n",
    "print (np.sqrt(c))"
   ]
  },
  {
   "cell_type": "code",
   "execution_count": 23,
   "metadata": {
    "collapsed": false
   },
   "outputs": [
    {
     "name": "stdout",
     "output_type": "stream",
     "text": [
      "[        nan  0.48224282         nan]\n",
      "[        nan -0.48224282         nan]\n"
     ]
    }
   ],
   "source": [
    "c = np.array([-1.23, 4.3, -0.3])\n",
    "z = tf.rsqrt(c)\n",
    "with tf.Session() as sess:\n",
    "    init = tf.initialize_all_variables()\n",
    "    sess.run(init)\n",
    "    print (z.eval())\n",
    "print (-1 / np.sqrt(c))"
   ]
  },
  {
   "cell_type": "code",
   "execution_count": 24,
   "metadata": {
    "collapsed": false
   },
   "outputs": [
    {
     "name": "stdout",
     "output_type": "stream",
     "text": [
      "[        nan  0.48224282         nan]\n",
      "[        nan -0.48224282         nan]\n"
     ]
    }
   ],
   "source": [
    "c = np.array([-1.23, 4.3, -0.3])\n",
    "z = tf.rsqrt(c)\n",
    "with tf.Session() as sess:\n",
    "    init = tf.initialize_all_variables()\n",
    "    sess.run(init)\n",
    "    print (z.eval())\n",
    "print (-1 / np.sqrt(c))"
   ]
  },
  {
   "cell_type": "code",
   "execution_count": null,
   "metadata": {
    "collapsed": true
   },
   "outputs": [],
   "source": []
  }
 ],
 "metadata": {
  "kernelspec": {
   "display_name": "Python 3",
   "language": "python",
   "name": "python3"
  },
  "language_info": {
   "codemirror_mode": {
    "name": "ipython",
    "version": 3
   },
   "file_extension": ".py",
   "mimetype": "text/x-python",
   "name": "python",
   "nbconvert_exporter": "python",
   "pygments_lexer": "ipython3",
   "version": "3.5.1+"
  }
 },
 "nbformat": 4,
 "nbformat_minor": 0
}
